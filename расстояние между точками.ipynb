{
 "cells": [
  {
   "cell_type": "code",
   "execution_count": 8,
   "id": "cf34529c",
   "metadata": {},
   "outputs": [
    {
     "name": "stdout",
     "output_type": "stream",
     "text": [
      "Введите ось X точки x3\n",
      "Введите ось Y точки x6\n",
      "Введите ось X точки y2\n",
      "Введите ось Y точки y8\n",
      "2.236\n"
     ]
    }
   ],
   "source": [
    "#Запросить у пользователя координаты x и y двух точек на плоскости. Посчитать расстояние между заданными точками \n",
    "#и вывести результат на консоль с точностью до трёх знаков после запятой (плавающей точки).\n",
    "import math \n",
    "Xx_str = input('Введите ось X точки x')\n",
    "Xx = int(Xx_str)\n",
    "Yx_str = input('Введите ось Y точки x')\n",
    "Yx = int(Yx_str)\n",
    "Xy_str = input('Введите ось X точки y')\n",
    "Xy = int(Xy_str)\n",
    "Yy_str = input('Введите ось Y точки y')\n",
    "Yy = int(Yy_str)\n",
    "rasst = math.sqrt((Xx-Xy)**2+(Yx-Yy)**2)\n",
    "rasst_okr = round(rasst, 3)\n",
    "print(rasst_okr)"
   ]
  },
  {
   "cell_type": "code",
   "execution_count": null,
   "id": "620e2e92",
   "metadata": {},
   "outputs": [],
   "source": []
  }
 ],
 "metadata": {
  "kernelspec": {
   "display_name": "Python 3 (ipykernel)",
   "language": "python",
   "name": "python3"
  },
  "language_info": {
   "codemirror_mode": {
    "name": "ipython",
    "version": 3
   },
   "file_extension": ".py",
   "mimetype": "text/x-python",
   "name": "python",
   "nbconvert_exporter": "python",
   "pygments_lexer": "ipython3",
   "version": "3.9.7"
  }
 },
 "nbformat": 4,
 "nbformat_minor": 5
}
